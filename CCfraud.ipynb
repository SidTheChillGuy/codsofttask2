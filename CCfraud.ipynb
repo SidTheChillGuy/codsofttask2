{
 "cells": [
  {
   "cell_type": "markdown",
   "metadata": {},
   "source": [
    "Importing libraries. e will also use imblearn's SMOTE library to subsample our imbalanced data"
   ]
  },
  {
   "cell_type": "code",
   "execution_count": 64,
   "metadata": {},
   "outputs": [],
   "source": [
    "import pandas as pd\n",
    "import matplotlib.pyplot as plt\n",
    "from sklearn.metrics import accuracy_score\n",
    "from sklearn.ensemble import RandomForestClassifier\n",
    "from sklearn.preprocessing import LabelEncoder\n",
    "from imblearn.over_sampling import SMOTE"
   ]
  },
  {
   "cell_type": "markdown",
   "metadata": {},
   "source": [
    "general data loading"
   ]
  },
  {
   "cell_type": "code",
   "execution_count": 72,
   "metadata": {},
   "outputs": [],
   "source": [
    "train_df = pd.read_csv('fraudTrain.csv')\n",
    "test_df = pd.read_csv('fraudTest.csv')"
   ]
  },
  {
   "cell_type": "code",
   "execution_count": 54,
   "metadata": {},
   "outputs": [
    {
     "data": {
      "text/html": [
       "<div>\n",
       "<style scoped>\n",
       "    .dataframe tbody tr th:only-of-type {\n",
       "        vertical-align: middle;\n",
       "    }\n",
       "\n",
       "    .dataframe tbody tr th {\n",
       "        vertical-align: top;\n",
       "    }\n",
       "\n",
       "    .dataframe thead th {\n",
       "        text-align: right;\n",
       "    }\n",
       "</style>\n",
       "<table border=\"1\" class=\"dataframe\">\n",
       "  <thead>\n",
       "    <tr style=\"text-align: right;\">\n",
       "      <th></th>\n",
       "      <th>Unnamed: 0</th>\n",
       "      <th>trans_date_trans_time</th>\n",
       "      <th>cc_num</th>\n",
       "      <th>merchant</th>\n",
       "      <th>category</th>\n",
       "      <th>amt</th>\n",
       "      <th>first</th>\n",
       "      <th>last</th>\n",
       "      <th>gender</th>\n",
       "      <th>street</th>\n",
       "      <th>...</th>\n",
       "      <th>lat</th>\n",
       "      <th>long</th>\n",
       "      <th>city_pop</th>\n",
       "      <th>job</th>\n",
       "      <th>dob</th>\n",
       "      <th>trans_num</th>\n",
       "      <th>unix_time</th>\n",
       "      <th>merch_lat</th>\n",
       "      <th>merch_long</th>\n",
       "      <th>is_fraud</th>\n",
       "    </tr>\n",
       "  </thead>\n",
       "  <tbody>\n",
       "    <tr>\n",
       "      <th>0</th>\n",
       "      <td>0</td>\n",
       "      <td>2019-01-01 00:00:18</td>\n",
       "      <td>2703186189652095</td>\n",
       "      <td>fraud_Rippin, Kub and Mann</td>\n",
       "      <td>misc_net</td>\n",
       "      <td>4.97</td>\n",
       "      <td>Jennifer</td>\n",
       "      <td>Banks</td>\n",
       "      <td>F</td>\n",
       "      <td>561 Perry Cove</td>\n",
       "      <td>...</td>\n",
       "      <td>36.0788</td>\n",
       "      <td>-81.1781</td>\n",
       "      <td>3495</td>\n",
       "      <td>Psychologist, counselling</td>\n",
       "      <td>1988-03-09</td>\n",
       "      <td>0b242abb623afc578575680df30655b9</td>\n",
       "      <td>1325376018</td>\n",
       "      <td>36.011293</td>\n",
       "      <td>-82.048315</td>\n",
       "      <td>0</td>\n",
       "    </tr>\n",
       "    <tr>\n",
       "      <th>1</th>\n",
       "      <td>1</td>\n",
       "      <td>2019-01-01 00:00:44</td>\n",
       "      <td>630423337322</td>\n",
       "      <td>fraud_Heller, Gutmann and Zieme</td>\n",
       "      <td>grocery_pos</td>\n",
       "      <td>107.23</td>\n",
       "      <td>Stephanie</td>\n",
       "      <td>Gill</td>\n",
       "      <td>F</td>\n",
       "      <td>43039 Riley Greens Suite 393</td>\n",
       "      <td>...</td>\n",
       "      <td>48.8878</td>\n",
       "      <td>-118.2105</td>\n",
       "      <td>149</td>\n",
       "      <td>Special educational needs teacher</td>\n",
       "      <td>1978-06-21</td>\n",
       "      <td>1f76529f8574734946361c461b024d99</td>\n",
       "      <td>1325376044</td>\n",
       "      <td>49.159047</td>\n",
       "      <td>-118.186462</td>\n",
       "      <td>0</td>\n",
       "    </tr>\n",
       "    <tr>\n",
       "      <th>2</th>\n",
       "      <td>2</td>\n",
       "      <td>2019-01-01 00:00:51</td>\n",
       "      <td>38859492057661</td>\n",
       "      <td>fraud_Lind-Buckridge</td>\n",
       "      <td>entertainment</td>\n",
       "      <td>220.11</td>\n",
       "      <td>Edward</td>\n",
       "      <td>Sanchez</td>\n",
       "      <td>M</td>\n",
       "      <td>594 White Dale Suite 530</td>\n",
       "      <td>...</td>\n",
       "      <td>42.1808</td>\n",
       "      <td>-112.2620</td>\n",
       "      <td>4154</td>\n",
       "      <td>Nature conservation officer</td>\n",
       "      <td>1962-01-19</td>\n",
       "      <td>a1a22d70485983eac12b5b88dad1cf95</td>\n",
       "      <td>1325376051</td>\n",
       "      <td>43.150704</td>\n",
       "      <td>-112.154481</td>\n",
       "      <td>0</td>\n",
       "    </tr>\n",
       "    <tr>\n",
       "      <th>3</th>\n",
       "      <td>3</td>\n",
       "      <td>2019-01-01 00:01:16</td>\n",
       "      <td>3534093764340240</td>\n",
       "      <td>fraud_Kutch, Hermiston and Farrell</td>\n",
       "      <td>gas_transport</td>\n",
       "      <td>45.00</td>\n",
       "      <td>Jeremy</td>\n",
       "      <td>White</td>\n",
       "      <td>M</td>\n",
       "      <td>9443 Cynthia Court Apt. 038</td>\n",
       "      <td>...</td>\n",
       "      <td>46.2306</td>\n",
       "      <td>-112.1138</td>\n",
       "      <td>1939</td>\n",
       "      <td>Patent attorney</td>\n",
       "      <td>1967-01-12</td>\n",
       "      <td>6b849c168bdad6f867558c3793159a81</td>\n",
       "      <td>1325376076</td>\n",
       "      <td>47.034331</td>\n",
       "      <td>-112.561071</td>\n",
       "      <td>0</td>\n",
       "    </tr>\n",
       "    <tr>\n",
       "      <th>4</th>\n",
       "      <td>4</td>\n",
       "      <td>2019-01-01 00:03:06</td>\n",
       "      <td>375534208663984</td>\n",
       "      <td>fraud_Keeling-Crist</td>\n",
       "      <td>misc_pos</td>\n",
       "      <td>41.96</td>\n",
       "      <td>Tyler</td>\n",
       "      <td>Garcia</td>\n",
       "      <td>M</td>\n",
       "      <td>408 Bradley Rest</td>\n",
       "      <td>...</td>\n",
       "      <td>38.4207</td>\n",
       "      <td>-79.4629</td>\n",
       "      <td>99</td>\n",
       "      <td>Dance movement psychotherapist</td>\n",
       "      <td>1986-03-28</td>\n",
       "      <td>a41d7549acf90789359a9aa5346dcb46</td>\n",
       "      <td>1325376186</td>\n",
       "      <td>38.674999</td>\n",
       "      <td>-78.632459</td>\n",
       "      <td>0</td>\n",
       "    </tr>\n",
       "  </tbody>\n",
       "</table>\n",
       "<p>5 rows × 23 columns</p>\n",
       "</div>"
      ],
      "text/plain": [
       "   Unnamed: 0 trans_date_trans_time            cc_num  \\\n",
       "0           0   2019-01-01 00:00:18  2703186189652095   \n",
       "1           1   2019-01-01 00:00:44      630423337322   \n",
       "2           2   2019-01-01 00:00:51    38859492057661   \n",
       "3           3   2019-01-01 00:01:16  3534093764340240   \n",
       "4           4   2019-01-01 00:03:06   375534208663984   \n",
       "\n",
       "                             merchant       category     amt      first  \\\n",
       "0          fraud_Rippin, Kub and Mann       misc_net    4.97   Jennifer   \n",
       "1     fraud_Heller, Gutmann and Zieme    grocery_pos  107.23  Stephanie   \n",
       "2                fraud_Lind-Buckridge  entertainment  220.11     Edward   \n",
       "3  fraud_Kutch, Hermiston and Farrell  gas_transport   45.00     Jeremy   \n",
       "4                 fraud_Keeling-Crist       misc_pos   41.96      Tyler   \n",
       "\n",
       "      last gender                        street  ...      lat      long  \\\n",
       "0    Banks      F                561 Perry Cove  ...  36.0788  -81.1781   \n",
       "1     Gill      F  43039 Riley Greens Suite 393  ...  48.8878 -118.2105   \n",
       "2  Sanchez      M      594 White Dale Suite 530  ...  42.1808 -112.2620   \n",
       "3    White      M   9443 Cynthia Court Apt. 038  ...  46.2306 -112.1138   \n",
       "4   Garcia      M              408 Bradley Rest  ...  38.4207  -79.4629   \n",
       "\n",
       "   city_pop                                job         dob  \\\n",
       "0      3495          Psychologist, counselling  1988-03-09   \n",
       "1       149  Special educational needs teacher  1978-06-21   \n",
       "2      4154        Nature conservation officer  1962-01-19   \n",
       "3      1939                    Patent attorney  1967-01-12   \n",
       "4        99     Dance movement psychotherapist  1986-03-28   \n",
       "\n",
       "                          trans_num   unix_time  merch_lat  merch_long  \\\n",
       "0  0b242abb623afc578575680df30655b9  1325376018  36.011293  -82.048315   \n",
       "1  1f76529f8574734946361c461b024d99  1325376044  49.159047 -118.186462   \n",
       "2  a1a22d70485983eac12b5b88dad1cf95  1325376051  43.150704 -112.154481   \n",
       "3  6b849c168bdad6f867558c3793159a81  1325376076  47.034331 -112.561071   \n",
       "4  a41d7549acf90789359a9aa5346dcb46  1325376186  38.674999  -78.632459   \n",
       "\n",
       "   is_fraud  \n",
       "0         0  \n",
       "1         0  \n",
       "2         0  \n",
       "3         0  \n",
       "4         0  \n",
       "\n",
       "[5 rows x 23 columns]"
      ]
     },
     "execution_count": 54,
     "metadata": {},
     "output_type": "execute_result"
    }
   ],
   "source": [
    "train_df.head()"
   ]
  },
  {
   "cell_type": "markdown",
   "metadata": {},
   "source": [
    "checking null values"
   ]
  },
  {
   "cell_type": "code",
   "execution_count": 55,
   "metadata": {},
   "outputs": [
    {
     "data": {
      "text/plain": [
       "Unnamed: 0               0\n",
       "trans_date_trans_time    0\n",
       "cc_num                   0\n",
       "merchant                 0\n",
       "category                 0\n",
       "amt                      0\n",
       "first                    0\n",
       "last                     0\n",
       "gender                   0\n",
       "street                   0\n",
       "city                     0\n",
       "state                    0\n",
       "zip                      0\n",
       "lat                      0\n",
       "long                     0\n",
       "city_pop                 0\n",
       "job                      0\n",
       "dob                      0\n",
       "trans_num                0\n",
       "unix_time                0\n",
       "merch_lat                0\n",
       "merch_long               0\n",
       "is_fraud                 0\n",
       "dtype: int64"
      ]
     },
     "execution_count": 55,
     "metadata": {},
     "output_type": "execute_result"
    }
   ],
   "source": [
    "train_df.isnull().sum()"
   ]
  },
  {
   "cell_type": "markdown",
   "metadata": {},
   "source": [
    "Visualisation:"
   ]
  },
  {
   "cell_type": "code",
   "execution_count": 56,
   "metadata": {},
   "outputs": [
    {
     "name": "stdout",
     "output_type": "stream",
     "text": [
      "gender\n",
      "F    709863\n",
      "M    586812\n",
      "Name: count, dtype: int64\n"
     ]
    },
    {
     "data": {
      "image/png": "[encoded data removed]",
      "text/plain": [
       "<Figure size 640x480 with 1 Axes>"
      ]
     },
     "metadata": {},
     "output_type": "display_data"
    }
   ],
   "source": [
    "def gendercount(df):\n",
    "    gender = df['gender'].value_counts()\n",
    "    print(gender)\n",
    "    gender = pd.Series.to_dict(gender)\n",
    "    gendnam = list(gender.keys())\n",
    "    gendcnt = list(gender.values())\n",
    "    plt.bar(gendnam,gendcnt,color = 'blue')\n",
    "    plt.xlabel(\"Gender\")\n",
    "    plt.ylabel(\"Counts\")\n",
    "    plt.title(\"gender transction\")\n",
    "    plt.show()\n",
    "\n",
    "gendercount(train_df)"
   ]
  },
  {
   "cell_type": "code",
   "execution_count": 57,
   "metadata": {},
   "outputs": [
    {
     "name": "stdout",
     "output_type": "stream",
     "text": [
      "is_fraud\n",
      "0    1289169\n",
      "1       7506\n",
      "Name: count, dtype: int64\n"
     ]
    },
    {
     "data": {
      "image/png": "[encoded data removed]",
      "text/plain": [
       "<Figure size 640x480 with 1 Axes>"
      ]
     },
     "metadata": {},
     "output_type": "display_data"
    }
   ],
   "source": [
    "def isfraudcount(df):\n",
    "    fraudn = df['is_fraud'].value_counts()\n",
    "    print(fraudn)\n",
    "    fraudn = pd.Series.to_dict(fraudn)\n",
    "    fraudlable = list(fraudn.keys())\n",
    "    fraudcnt = list(fraudn.values())\n",
    "    plt.bar(fraudlable,fraudcnt,color = 'blue')\n",
    "    plt.xlabel(\"fraudn\")\n",
    "    plt.ylabel(\"Counts\")\n",
    "    plt.xticks(fraudlable,['not fraud','fraud'])\n",
    "    plt.title(\"fraudn transction\")\n",
    "    plt.show()\n",
    "\n",
    "isfraudcount(train_df)"
   ]
  },
  {
   "cell_type": "markdown",
   "metadata": {},
   "source": [
    "## Severely biased dataset, only 0.57 % values are fraud.\n",
    "This will lead to our model overfittng on data.\n",
    "We can try methods like undersampling and Cross validation.\n",
    "Additionally, we can use RandomForest to try to 'catch' the features"
   ]
  },
  {
   "cell_type": "code",
   "execution_count": 58,
   "metadata": {},
   "outputs": [
    {
     "name": "stdout",
     "output_type": "stream",
     "text": [
      "category\n",
      "gas_transport     131659\n",
      "grocery_pos       123638\n",
      "home              123115\n",
      "shopping_pos      116672\n",
      "kids_pets         113035\n",
      "shopping_net       97543\n",
      "entertainment      94014\n",
      "food_dining        91461\n",
      "personal_care      90758\n",
      "health_fitness     85879\n",
      "misc_pos           79655\n",
      "misc_net           63287\n",
      "grocery_net        45452\n",
      "travel             40507\n",
      "Name: count, dtype: int64\n"
     ]
    },
    {
     "data": {
      "image/png": "[encoded data removed]",
      "text/plain": [
       "<Figure size 640x480 with 1 Axes>"
      ]
     },
     "metadata": {},
     "output_type": "display_data"
    }
   ],
   "source": [
    "def categorycount(df):\n",
    "    catgory = df['category'].value_counts()\n",
    "    print(catgory)\n",
    "    catgory = pd.Series.to_dict(catgory)\n",
    "    catname = list(catgory.keys())\n",
    "    catcnt = list(catgory.values())\n",
    "    plt.bar(catname,catcnt,color = 'blue')\n",
    "    plt.xlabel(\"catergory\")\n",
    "    plt.ylabel(\"Counts\")\n",
    "    plt.title(\"catgory transction\")\n",
    "    plt.xticks(rotation=90)\n",
    "    plt.show()\n",
    "\n",
    "categorycount(train_df)"
   ]
  },
  {
   "cell_type": "markdown",
   "metadata": {},
   "source": [
    "# Random Forest Gen"
   ]
  },
  {
   "cell_type": "markdown",
   "metadata": {},
   "source": [
    "Columns like merchant, cc_num, category, job can be one-hot encoded/LabelEncoded"
   ]
  },
  {
   "cell_type": "code",
   "execution_count": 59,
   "metadata": {},
   "outputs": [],
   "source": [
    "def randomForest(train_df_fnx, test_df_fnx):\n",
    "\n",
    "    trn_df = train_df_fnx\n",
    "    tst_df = test_df_fnx\n",
    "\n",
    "    enc = LabelEncoder()\n",
    "\n",
    "    print(\"Label encoding...\")\n",
    "\n",
    "    trn_df[\"merchant\"] = enc.fit_transform(trn_df[\"merchant\"])\n",
    "    trn_df[\"category\"] = enc.fit_transform(trn_df[\"category\"])\n",
    "    trn_df[\"gender\"] = enc.fit_transform(trn_df[\"gender\"])\n",
    "    trn_df[\"job\"] = enc.fit_transform(trn_df[\"job\"])\n",
    "    trn_df[\"first\"] = enc.fit_transform(trn_df[\"first\"])\n",
    "    trn_df[\"last\"] = enc.fit_transform(trn_df[\"last\"])\n",
    "\n",
    "    # remove seemingly useless columns\n",
    "    trn_df.drop(columns=['Unnamed: 0','cc_num','street','city','state','zip','trans_num','dob','trans_date_trans_time'], inplace=True)\n",
    "    # training tym :D\n",
    "    X = trn_df.drop(columns=['is_fraud'], inplace = False)\n",
    "    y = trn_df['is_fraud']\n",
    "\n",
    "    print(\"model RF fitting...\")\n",
    "\n",
    "    model = RandomForestClassifier(n_estimators=100,max_depth=75)\n",
    "\n",
    "    model.fit(X,y)\n",
    "\n",
    "    print(\"Training set: \",model.score(X, y))\n",
    "    #☠️☠️\n",
    "    \n",
    "\n",
    "    # testing time;\n",
    "    enc = LabelEncoder()\n",
    "\n",
    "    tst_df[\"merchant\"] = enc.fit_transform(tst_df[\"merchant\"])\n",
    "    tst_df[\"category\"] = enc.fit_transform(tst_df[\"category\"])\n",
    "    tst_df[\"gender\"] = enc.fit_transform(tst_df[\"gender\"])\n",
    "    tst_df[\"job\"] = enc.fit_transform(tst_df[\"job\"])\n",
    "    tst_df[\"first\"] = enc.fit_transform(tst_df[\"first\"])\n",
    "    tst_df[\"last\"] = enc.fit_transform(tst_df[\"last\"])\n",
    "\n",
    "    tst_df.drop(columns=['Unnamed: 0','cc_num','street','city','state','zip','trans_num','dob','trans_date_trans_time'], inplace=True)\n",
    "\n",
    "    X = tst_df.drop(columns=['is_fraud'], inplace = False)\n",
    "    y = tst_df['is_fraud']\n",
    "\n",
    "    print(\"testing set: \",model.score(X,y))\n",
    "\n",
    "    y_pred_model_test = model.predict(X)\n",
    "\n",
    "    return (y_pred_model_test,model)"
   ]
  },
  {
   "cell_type": "code",
   "execution_count": 60,
   "metadata": {},
   "outputs": [
    {
     "name": "stdout",
     "output_type": "stream",
     "text": [
      "Training set:  0.9999976863901903\n",
      "testing set:  0.9972881978122037\n"
     ]
    }
   ],
   "source": [
    "(y_pred,rfmodelauto) = randomForest(train_df,test_df)"
   ]
  },
  {
   "cell_type": "code",
   "execution_count": 61,
   "metadata": {},
   "outputs": [
    {
     "name": "stdout",
     "output_type": "stream",
     "text": [
      "is_fraud\n",
      "0    553574\n",
      "1      2145\n",
      "Name: count, dtype: int64\n"
     ]
    }
   ],
   "source": [
    "checker = test_df['is_fraud'].value_counts()\n",
    "print(checker)"
   ]
  },
  {
   "cell_type": "code",
   "execution_count": 63,
   "metadata": {},
   "outputs": [
    {
     "name": "stdout",
     "output_type": "stream",
     "text": [
      "1264\n"
     ]
    }
   ],
   "source": [
    "i = 0\n",
    "for arr in y_pred:\n",
    "    if arr==1:\n",
    "        i+=1\n",
    "\n",
    "print(i)"
   ]
  },
  {
   "cell_type": "markdown",
   "metadata": {},
   "source": [
    "We will use SMOTE with RF. Smote has to be used only while training."
   ]
  },
  {
   "cell_type": "code",
   "execution_count": 73,
   "metadata": {},
   "outputs": [],
   "source": [
    "def SMOTErandomForest(train_df_fnx, test_df_fnx):\n",
    "\n",
    "    trn_df = train_df_fnx\n",
    "    tst_df = test_df_fnx\n",
    "\n",
    "    enc = LabelEncoder()\n",
    "\n",
    "    print(\"Label encoding...\")\n",
    "\n",
    "    trn_df[\"merchant\"] = enc.fit_transform(trn_df[\"merchant\"])\n",
    "    trn_df[\"category\"] = enc.fit_transform(trn_df[\"category\"])\n",
    "    trn_df[\"gender\"] = enc.fit_transform(trn_df[\"gender\"])\n",
    "    trn_df[\"job\"] = enc.fit_transform(trn_df[\"job\"])\n",
    "    trn_df[\"first\"] = enc.fit_transform(trn_df[\"first\"])\n",
    "    trn_df[\"last\"] = enc.fit_transform(trn_df[\"last\"])\n",
    "\n",
    "    # remove seemingly useless columns\n",
    "    trn_df.drop(columns=['Unnamed: 0','cc_num','street','city','state','zip','trans_num','dob','trans_date_trans_time'], inplace=True)\n",
    "    \n",
    "    # fit via smote\n",
    "    print(\"SMOTE fitting...\")\n",
    "    smotemethod = SMOTE()\n",
    "    # training tym :D\n",
    "    X = trn_df.drop(columns=['is_fraud'], inplace = False)\n",
    "    y = trn_df['is_fraud']\n",
    "\n",
    "    X,y = smotemethod.fit_resample(X,y)\n",
    "\n",
    "\n",
    "    print(\"Model RF fitting...\")\n",
    "\n",
    "    model = RandomForestClassifier(n_estimators=100,max_depth=75)\n",
    "\n",
    "    model.fit(X,y)\n",
    "\n",
    "    print(\"Training set: \",model.score(X, y))\n",
    "    #☠️☠️\n",
    "    \n",
    "\n",
    "    # testing time;\n",
    "    enc = LabelEncoder()\n",
    "\n",
    "    tst_df[\"merchant\"] = enc.fit_transform(tst_df[\"merchant\"])\n",
    "    tst_df[\"category\"] = enc.fit_transform(tst_df[\"category\"])\n",
    "    tst_df[\"gender\"] = enc.fit_transform(tst_df[\"gender\"])\n",
    "    tst_df[\"job\"] = enc.fit_transform(tst_df[\"job\"])\n",
    "    tst_df[\"first\"] = enc.fit_transform(tst_df[\"first\"])\n",
    "    tst_df[\"last\"] = enc.fit_transform(tst_df[\"last\"])\n",
    "\n",
    "    tst_df.drop(columns=['Unnamed: 0','cc_num','street','city','state','zip','trans_num','dob','trans_date_trans_time'], inplace=True)\n",
    "\n",
    "    X = tst_df.drop(columns=['is_fraud'], inplace = False)\n",
    "    y = tst_df['is_fraud']\n",
    "\n",
    "    # X,y = smotemethod.fit_resample(X,y)\n",
    "\n",
    "    print(\"testing set: \",model.score(X,y))\n",
    "\n",
    "    y_pred_model_test = model.predict(X)\n",
    "\n",
    "    return (y_pred_model_test,model)"
   ]
  },
  {
   "cell_type": "code",
   "execution_count": 74,
   "metadata": {},
   "outputs": [
    {
     "name": "stdout",
     "output_type": "stream",
     "text": [
      "Label encoding...\n",
      "SMOTE fitting...\n",
      "Model RF fitting...\n",
      "Training set:  1.0\n",
      "testing set:  0.9948445167431742\n"
     ]
    }
   ],
   "source": [
    "(y_pred_smote,rfmodelsmote) = SMOTErandomForest(train_df,test_df)"
   ]
  },
  {
   "cell_type": "code",
   "execution_count": 75,
   "metadata": {},
   "outputs": [
    {
     "name": "stdout",
     "output_type": "stream",
     "text": [
      "is_fraud\n",
      "0    553574\n",
      "1      2145\n",
      "Name: count, dtype: int64\n"
     ]
    }
   ],
   "source": [
    "checkerSMOTE = test_df['is_fraud'].value_counts()\n",
    "print(checkerSMOTE)"
   ]
  },
  {
   "cell_type": "code",
   "execution_count": 76,
   "metadata": {},
   "outputs": [
    {
     "name": "stdout",
     "output_type": "stream",
     "text": [
      "1534\n"
     ]
    }
   ],
   "source": [
    "i = 0\n",
    "for arr in y_pred_smote:\n",
    "    if arr==1:\n",
    "        i+=1\n",
    "\n",
    "print(i)"
   ]
  },
  {
   "cell_type": "markdown",
   "metadata": {},
   "source": [
    "slightly better"
   ]
  }
 ],
 "metadata": {
  "kernelspec": {
   "display_name": "base",
   "language": "python",
   "name": "python3"
  },
  "language_info": {
   "codemirror_mode": {
    "name": "ipython",
    "version": 3
   },
   "file_extension": ".py",
   "mimetype": "text/x-python",
   "name": "python",
   "nbconvert_exporter": "python",
   "pygments_lexer": "ipython3",
   "version": "3.11.9"
  }
 },
 "nbformat": 4,
 "nbformat_minor": 2
}
